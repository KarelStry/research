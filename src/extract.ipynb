{
 "cells": [
  {
   "cell_type": "code",
   "execution_count": 5,
   "metadata": {},
   "outputs": [],
   "source": [
    "import re"
   ]
  },
  {
   "cell_type": "code",
   "execution_count": null,
   "metadata": {},
   "outputs": [
    {
     "name": "stdout",
     "output_type": "stream",
     "text": [
      "Risk Count 1\n"
     ]
    }
   ],
   "source": [
    "def risk_word_count(text, risk_words=None):\n",
    "    \"\"\"\n",
    "    Count the number of risk words in a given text snippet.\n",
    "    \n",
    "    Parameters:\n",
    "        text (str): A pre-extracted text snippet (e.g., ±10 words) from extract_exposure.\n",
    "        risk_words (list, optional): A list of risk words to look for.\n",
    "                                     Defaults to a sample list.\n",
    "    \n",
    "    Returns:\n",
    "        int: Total count of risk words found in the text.\n",
    "    \"\"\"\n",
    "    # Define a default list of risk words if none are provided\n",
    "    if risk_words is None:\n",
    "        risk_words = [\"concerned\", \"risk\", \"uncertain\", \"vulnerable\", \"exposed\",\"unsure\",\"doubtful\",\"tentative\",\"risky\",\"unpredictable\",\"questionable\",\"ambiguous\",\"doubt\",\"doubtful\",\"dubious\",\"\"]\n",
    "    \n",
    "    # Normalize the text: convert to lowercase and remove punctuation\n",
    "    clean_text = re.sub(r'[^\\w\\s]', '', text.lower())\n",
    "    words = clean_text.split()\n",
    "    \n",
    "    # Count occurrences of risk words in the text\n",
    "    count = 0\n",
    "    for word in words:\n",
    "        if word in risk_words:\n",
    "            count += 1\n",
    "    return count\n",
    "example_text = \"Due to Trump's recent tariff policies, we are concerned that our suppliers overseas may raise prices on us.\"\n",
    "\n",
    "print (\"Risk Count\",risk_word_count(example_text))"
   ]
  },
  {
   "cell_type": "code",
   "execution_count": 7,
   "metadata": {},
   "outputs": [
    {
     "name": "stdout",
     "output_type": "stream",
     "text": [
      "{'tariff': 1}\n"
     ]
    }
   ],
   "source": [
    "def risk_exposure(exposure_contexts, risk_words=None):\n",
    "    \"\"\"\n",
    "    Analyze the pre-extracted exposure contexts to count risk words within each.\n",
    "    \n",
    "    Parameters:\n",
    "        exposure_contexts (dict): A dictionary output from extract_exposure,\n",
    "                                  where each key is an exposure word and each value is the corresponding context string.\n",
    "        risk_words (list, optional): A list of risk words to search for.\n",
    "                                     Defaults to a sample list.\n",
    "    \n",
    "    Returns:\n",
    "        dict: A dictionary mapping each exposure word to its risk score (i.e., count of risk words in its context).\n",
    "    \"\"\"\n",
    "    risk_scores = {}\n",
    "    for exposure, context in exposure_contexts.items():\n",
    "        risk_scores[exposure] = risk_word_count(context, risk_words)\n",
    "    return risk_scores\n",
    "\n",
    "# Example usage:\n",
    "\n",
    "# Assume this is the output from your extract_exposure function:\n",
    "exposure_contexts = {\n",
    "    \"tariff\": \"Due to Trump's recent tariff policies, we are concerned that our suppliers overseas may raise prices on us.\"\n",
    "}\n",
    "\n",
    "# Count risk words within each exposure context:\n",
    "risk_results = risk_exposure(exposure_contexts)\n",
    "print(risk_results)\n",
    "# Expected output: {'tariff': 1}  because \"concerned\" is detected as a risk word.\n"
   ]
  }
 ],
 "metadata": {
  "kernelspec": {
   "display_name": "Python 3",
   "language": "python",
   "name": "python3"
  },
  "language_info": {
   "codemirror_mode": {
    "name": "ipython",
    "version": 3
   },
   "file_extension": ".py",
   "mimetype": "text/x-python",
   "name": "python",
   "nbconvert_exporter": "python",
   "pygments_lexer": "ipython3",
   "version": "3.11.11"
  }
 },
 "nbformat": 4,
 "nbformat_minor": 2
}
